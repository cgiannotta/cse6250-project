{
 "cells": [
  {
   "cell_type": "code",
   "execution_count": 1,
   "metadata": {},
   "outputs": [],
   "source": [
    "import pandas as pd\n",
    "pd.set_option('display.max_columns', None)\n",
    "import numpy as np\n",
    "import matplotlib.pyplot as plt"
   ]
  },
  {
   "cell_type": "code",
   "execution_count": 2,
   "metadata": {},
   "outputs": [
    {
     "name": "stdout",
     "output_type": "stream",
     "text": [
      "(56839, 19)\n"
     ]
    },
    {
     "data": {
      "text/html": [
       "<div>\n",
       "<style scoped>\n",
       "    .dataframe tbody tr th:only-of-type {\n",
       "        vertical-align: middle;\n",
       "    }\n",
       "\n",
       "    .dataframe tbody tr th {\n",
       "        vertical-align: top;\n",
       "    }\n",
       "\n",
       "    .dataframe thead th {\n",
       "        text-align: right;\n",
       "    }\n",
       "</style>\n",
       "<table border=\"1\" class=\"dataframe\">\n",
       "  <thead>\n",
       "    <tr style=\"text-align: right;\">\n",
       "      <th></th>\n",
       "      <th>text</th>\n",
       "      <th>Hospital.Admission.ID</th>\n",
       "      <th>subject.id</th>\n",
       "      <th>chart.time</th>\n",
       "      <th>cohort</th>\n",
       "      <th>Obesity</th>\n",
       "      <th>Non.Adherence</th>\n",
       "      <th>Developmental.Delay.Retardation</th>\n",
       "      <th>Advanced.Heart.Disease</th>\n",
       "      <th>Advanced.Lung.Disease</th>\n",
       "      <th>Schizophrenia.and.other.Psychiatric.Disorders</th>\n",
       "      <th>Alcohol.Abuse</th>\n",
       "      <th>Other.Substance.Abuse</th>\n",
       "      <th>Chronic.Pain.Fibromyalgia</th>\n",
       "      <th>Chronic.Neurological.Dystrophies</th>\n",
       "      <th>Advanced.Cancer</th>\n",
       "      <th>Depression</th>\n",
       "      <th>Dementia</th>\n",
       "      <th>Unsure</th>\n",
       "    </tr>\n",
       "  </thead>\n",
       "  <tbody>\n",
       "    <tr>\n",
       "      <th>0</th>\n",
       "      <td>Admission Date:  [**2200-4-7**]     Discharge ...</td>\n",
       "      <td>118003.0</td>\n",
       "      <td>3644</td>\n",
       "      <td>118003</td>\n",
       "      <td>1</td>\n",
       "      <td>0</td>\n",
       "      <td>0</td>\n",
       "      <td>0</td>\n",
       "      <td>0</td>\n",
       "      <td>0</td>\n",
       "      <td>0</td>\n",
       "      <td>0</td>\n",
       "      <td>0</td>\n",
       "      <td>1</td>\n",
       "      <td>0</td>\n",
       "      <td>0</td>\n",
       "      <td>1</td>\n",
       "      <td>0</td>\n",
       "      <td>0</td>\n",
       "    </tr>\n",
       "    <tr>\n",
       "      <th>1</th>\n",
       "      <td>Tracing is of improved quality. Sinus tachycar...</td>\n",
       "      <td>118003.0</td>\n",
       "      <td>3644</td>\n",
       "      <td>118003</td>\n",
       "      <td>1</td>\n",
       "      <td>0</td>\n",
       "      <td>0</td>\n",
       "      <td>0</td>\n",
       "      <td>0</td>\n",
       "      <td>0</td>\n",
       "      <td>0</td>\n",
       "      <td>0</td>\n",
       "      <td>0</td>\n",
       "      <td>1</td>\n",
       "      <td>0</td>\n",
       "      <td>0</td>\n",
       "      <td>1</td>\n",
       "      <td>0</td>\n",
       "      <td>0</td>\n",
       "    </tr>\n",
       "    <tr>\n",
       "      <th>2</th>\n",
       "      <td>Technically difficult study. P waves are atypi...</td>\n",
       "      <td>118003.0</td>\n",
       "      <td>3644</td>\n",
       "      <td>118003</td>\n",
       "      <td>1</td>\n",
       "      <td>0</td>\n",
       "      <td>0</td>\n",
       "      <td>0</td>\n",
       "      <td>0</td>\n",
       "      <td>0</td>\n",
       "      <td>0</td>\n",
       "      <td>0</td>\n",
       "      <td>0</td>\n",
       "      <td>1</td>\n",
       "      <td>0</td>\n",
       "      <td>0</td>\n",
       "      <td>1</td>\n",
       "      <td>0</td>\n",
       "      <td>0</td>\n",
       "    </tr>\n",
       "    <tr>\n",
       "      <th>3</th>\n",
       "      <td>Sinus rhythm. Compared to the previous tracing...</td>\n",
       "      <td>118003.0</td>\n",
       "      <td>3644</td>\n",
       "      <td>118003</td>\n",
       "      <td>1</td>\n",
       "      <td>0</td>\n",
       "      <td>0</td>\n",
       "      <td>0</td>\n",
       "      <td>0</td>\n",
       "      <td>0</td>\n",
       "      <td>0</td>\n",
       "      <td>0</td>\n",
       "      <td>0</td>\n",
       "      <td>1</td>\n",
       "      <td>0</td>\n",
       "      <td>0</td>\n",
       "      <td>1</td>\n",
       "      <td>0</td>\n",
       "      <td>0</td>\n",
       "    </tr>\n",
       "    <tr>\n",
       "      <th>4</th>\n",
       "      <td>Sinus rhythm. Since the previous tracing of [*...</td>\n",
       "      <td>118003.0</td>\n",
       "      <td>3644</td>\n",
       "      <td>118003</td>\n",
       "      <td>1</td>\n",
       "      <td>0</td>\n",
       "      <td>0</td>\n",
       "      <td>0</td>\n",
       "      <td>0</td>\n",
       "      <td>0</td>\n",
       "      <td>0</td>\n",
       "      <td>0</td>\n",
       "      <td>0</td>\n",
       "      <td>1</td>\n",
       "      <td>0</td>\n",
       "      <td>0</td>\n",
       "      <td>1</td>\n",
       "      <td>0</td>\n",
       "      <td>0</td>\n",
       "    </tr>\n",
       "  </tbody>\n",
       "</table>\n",
       "</div>"
      ],
      "text/plain": [
       "                                                text  Hospital.Admission.ID  \\\n",
       "0  Admission Date:  [**2200-4-7**]     Discharge ...               118003.0   \n",
       "1  Tracing is of improved quality. Sinus tachycar...               118003.0   \n",
       "2  Technically difficult study. P waves are atypi...               118003.0   \n",
       "3  Sinus rhythm. Compared to the previous tracing...               118003.0   \n",
       "4  Sinus rhythm. Since the previous tracing of [*...               118003.0   \n",
       "\n",
       "   subject.id  chart.time  cohort  Obesity  Non.Adherence  \\\n",
       "0        3644      118003       1        0              0   \n",
       "1        3644      118003       1        0              0   \n",
       "2        3644      118003       1        0              0   \n",
       "3        3644      118003       1        0              0   \n",
       "4        3644      118003       1        0              0   \n",
       "\n",
       "   Developmental.Delay.Retardation  Advanced.Heart.Disease  \\\n",
       "0                                0                       0   \n",
       "1                                0                       0   \n",
       "2                                0                       0   \n",
       "3                                0                       0   \n",
       "4                                0                       0   \n",
       "\n",
       "   Advanced.Lung.Disease  Schizophrenia.and.other.Psychiatric.Disorders  \\\n",
       "0                      0                                              0   \n",
       "1                      0                                              0   \n",
       "2                      0                                              0   \n",
       "3                      0                                              0   \n",
       "4                      0                                              0   \n",
       "\n",
       "   Alcohol.Abuse  Other.Substance.Abuse  Chronic.Pain.Fibromyalgia  \\\n",
       "0              0                      0                          1   \n",
       "1              0                      0                          1   \n",
       "2              0                      0                          1   \n",
       "3              0                      0                          1   \n",
       "4              0                      0                          1   \n",
       "\n",
       "   Chronic.Neurological.Dystrophies  Advanced.Cancer  Depression  Dementia  \\\n",
       "0                                 0                0           1         0   \n",
       "1                                 0                0           1         0   \n",
       "2                                 0                0           1         0   \n",
       "3                                 0                0           1         0   \n",
       "4                                 0                0           1         0   \n",
       "\n",
       "   Unsure  \n",
       "0       0  \n",
       "1       0  \n",
       "2       0  \n",
       "3       0  \n",
       "4       0  "
      ]
     },
     "execution_count": 2,
     "metadata": {},
     "output_type": "execute_result"
    }
   ],
   "source": [
    "fp = \"../../data/annotated_discharge.csv\"\n",
    "df = pd.read_csv(fp)\n",
    "df = df.rename(columns={\"SUBJECT_ID\":\"subject.id\",\n",
    "                        \"HADM_ID\":\"Hospital.Admission.ID\",\n",
    "                        \"TEXT\":\"text\"})\n",
    "cols_to_keep = ['text', 'Hospital.Admission.ID', 'subject.id', 'chart.time',\n",
    "                'cohort', 'Obesity', 'Non.Adherence', 'Developmental.Delay.Retardation',\n",
    "                'Advanced.Heart.Disease', 'Advanced.Lung.Disease',\n",
    "                'Schizophrenia.and.other.Psychiatric.Disorders', 'Alcohol.Abuse',\n",
    "                'Other.Substance.Abuse', 'Chronic.Pain.Fibromyalgia',\n",
    "                'Chronic.Neurological.Dystrophies', 'Advanced.Cancer', 'Depression',\n",
    "                'Dementia', 'Unsure']\n",
    "df = df[cols_to_keep]\n",
    "print(df.shape)\n",
    "df.head()"
   ]
  },
  {
   "cell_type": "code",
   "execution_count": 3,
   "metadata": {},
   "outputs": [
    {
     "data": {
      "text/plain": [
       "0"
      ]
     },
     "execution_count": 3,
     "metadata": {},
     "output_type": "execute_result"
    }
   ],
   "source": [
    "df.isna().sum().sum()"
   ]
  },
  {
   "cell_type": "code",
   "execution_count": 4,
   "metadata": {},
   "outputs": [
    {
     "data": {
      "text/plain": [
       "count    56839.000000\n",
       "mean      2077.733071\n",
       "std       2780.655499\n",
       "min          3.000000\n",
       "25%        526.000000\n",
       "50%       1223.000000\n",
       "75%       2081.000000\n",
       "max      31151.000000\n",
       "Name: text, dtype: float64"
      ]
     },
     "execution_count": 4,
     "metadata": {},
     "output_type": "execute_result"
    }
   ],
   "source": [
    "df[\"text\"].str.len().describe()"
   ]
  },
  {
   "cell_type": "code",
   "execution_count": 5,
   "metadata": {},
   "outputs": [
    {
     "data": {
      "text/plain": [
       "(36, 19)"
      ]
     },
     "execution_count": 5,
     "metadata": {},
     "output_type": "execute_result"
    }
   ],
   "source": [
    "df[df['text'].str.len() < 20].shape"
   ]
  },
  {
   "cell_type": "code",
   "execution_count": 6,
   "metadata": {},
   "outputs": [
    {
     "data": {
      "text/plain": [
       "count    56803.000000\n",
       "mean      2079.043096\n",
       "std       2781.049400\n",
       "min         21.000000\n",
       "25%        528.000000\n",
       "50%       1223.000000\n",
       "75%       2083.000000\n",
       "max      31151.000000\n",
       "Name: text, dtype: float64"
      ]
     },
     "execution_count": 6,
     "metadata": {},
     "output_type": "execute_result"
    }
   ],
   "source": [
    "df[df['text'].str.len() > 20]['text'].str.len().describe()"
   ]
  },
  {
   "cell_type": "code",
   "execution_count": 59,
   "metadata": {},
   "outputs": [
    {
     "data": {
      "text/plain": [
       "count    56834.000000\n",
       "mean      1713.293082\n",
       "std       2272.476521\n",
       "min          3.000000\n",
       "25%        477.000000\n",
       "50%       1065.500000\n",
       "75%       1844.750000\n",
       "max      28682.000000\n",
       "Name: text, dtype: float64"
      ]
     },
     "execution_count": 59,
     "metadata": {},
     "output_type": "execute_result"
    }
   ],
   "source": [
    "df[df[\"text\"].str.len() > 1]['text'].str.len().describe()"
   ]
  },
  {
   "cell_type": "code",
   "execution_count": 67,
   "metadata": {},
   "outputs": [],
   "source": [
    "# drop rows with no discharge text\n",
    "df = df[df[\"text\"].str.len() >= 20]"
   ]
  },
  {
   "cell_type": "code",
   "execution_count": 68,
   "metadata": {},
   "outputs": [],
   "source": [
    "from gensim.models import Word2Vec\n",
    "import nltk\n",
    "from nltk.corpus import stopwords\n",
    "import re"
   ]
  },
  {
   "cell_type": "code",
   "execution_count": 27,
   "metadata": {},
   "outputs": [
    {
     "name": "stderr",
     "output_type": "stream",
     "text": [
      "[nltk_data] Downloading package punkt to\n",
      "[nltk_data]     C:\\Users\\colle\\AppData\\Roaming\\nltk_data...\n",
      "[nltk_data]   Package punkt is already up-to-date!\n",
      "[nltk_data] Downloading package stopwords to\n",
      "[nltk_data]     C:\\Users\\colle\\AppData\\Roaming\\nltk_data...\n",
      "[nltk_data]   Unzipping corpora\\stopwords.zip.\n"
     ]
    },
    {
     "data": {
      "text/plain": [
       "True"
      ]
     },
     "execution_count": 27,
     "metadata": {},
     "output_type": "execute_result"
    }
   ],
   "source": [
    "# may need to download resource from nltk\n",
    "nltk.download('punkt')\n",
    "nltk.download('stopwords')"
   ]
  },
  {
   "cell_type": "code",
   "execution_count": 6,
   "metadata": {},
   "outputs": [
    {
     "data": {
      "text/plain": [
       "'i went to the 7462 xtmart'"
      ]
     },
     "execution_count": 6,
     "metadata": {},
     "output_type": "execute_result"
    }
   ],
   "source": [
    "def preprocess_text(hosp_adm_text):\n",
    "    # https://www.h2kinfosys.com/blog/word-embeddings-with-word2vec-tutorial-all-you-need-to-know/\n",
    "    #remove extra characters\n",
    "    # processed_text = re.sub(r\"[[0-9]*\\]\", \" \", hosp_adm_text)\n",
    "    processed_text = \" \".join([re.sub(r'\\W+', '', t) for t in hosp_adm_text.split()])\n",
    "    #remove the extra spaces between words\n",
    "    processed_text = re.sub(r\"\\s+\", \" \", processed_text)\n",
    "    #convert all letters to lowercase\n",
    "    processed_text = processed_text.lower()\n",
    "    return processed_text\n",
    "\n",
    "txt = \"I w$ent to   the 7462 x*tmart?\"\n",
    "preprocess_text(txt)"
   ]
  },
  {
   "cell_type": "code",
   "execution_count": 69,
   "metadata": {},
   "outputs": [
    {
     "data": {
      "text/plain": [
       "0    admission date 220047 discharge date 2200410 d...\n",
       "1    tracing is of improved quality sinus tachycard...\n",
       "2    technically difficult study p waves are atypic...\n",
       "3    sinus rhythm compared to the previous tracing ...\n",
       "4    sinus rhythm since the previous tracing of 220...\n",
       "Name: text, dtype: object"
      ]
     },
     "execution_count": 69,
     "metadata": {},
     "output_type": "execute_result"
    }
   ],
   "source": [
    "df['text'] = df['text'].apply(lambda x: preprocess_text(x))\n",
    "df['text'].head()"
   ]
  },
  {
   "cell_type": "code",
   "execution_count": 70,
   "metadata": {},
   "outputs": [],
   "source": [
    "def tokenize_and_remove_stop_words(preproc_text):\n",
    "    # tokenize the text to list of sentences\n",
    "    tokenized_sentence = nltk.sent_tokenize(preproc_text)\n",
    "    \n",
    "    # tokenize the list of sentences to list of words\n",
    "    tokenized_words = [nltk.word_tokenize(sentence) for sentence in tokenized_sentence]\n",
    "\n",
    "    #define the english stopwords\n",
    "    stop_words = stopwords.words('english')\n",
    "\n",
    "    #remove the stop words from the text\n",
    "    for i, _ in enumerate(tokenized_words):\n",
    "        tokenized_words[i] = [word for word in tokenized_words[i] if word not in stop_words]\n",
    "\n",
    "    return tokenized_words"
   ]
  },
  {
   "cell_type": "code",
   "execution_count": 41,
   "metadata": {},
   "outputs": [
    {
     "data": {
      "text/plain": [
       "['I went to the $tore.', 'I bou&T some Milk!']"
      ]
     },
     "execution_count": 41,
     "metadata": {},
     "output_type": "execute_result"
    }
   ],
   "source": [
    "txt = \"I went to the $tore. I bou&T some Milk!\"\n",
    "# preproc = [preprocess_text(t) for t in txt]\n",
    "nltk.sent_tokenize(txt)"
   ]
  },
  {
   "cell_type": "code",
   "execution_count": 71,
   "metadata": {},
   "outputs": [
    {
     "data": {
      "text/html": [
       "<div>\n",
       "<style scoped>\n",
       "    .dataframe tbody tr th:only-of-type {\n",
       "        vertical-align: middle;\n",
       "    }\n",
       "\n",
       "    .dataframe tbody tr th {\n",
       "        vertical-align: top;\n",
       "    }\n",
       "\n",
       "    .dataframe thead th {\n",
       "        text-align: right;\n",
       "    }\n",
       "</style>\n",
       "<table border=\"1\" class=\"dataframe\">\n",
       "  <thead>\n",
       "    <tr style=\"text-align: right;\">\n",
       "      <th></th>\n",
       "      <th>text</th>\n",
       "      <th>tokenized_text</th>\n",
       "    </tr>\n",
       "  </thead>\n",
       "  <tbody>\n",
       "    <tr>\n",
       "      <th>0</th>\n",
       "      <td>admission date 220047 discharge date 2200410 d...</td>\n",
       "      <td>[admission, date, 220047, discharge, date, 220...</td>\n",
       "    </tr>\n",
       "    <tr>\n",
       "      <th>1</th>\n",
       "      <td>tracing is of improved quality sinus tachycard...</td>\n",
       "      <td>[tracing, improved, quality, sinus, tachycardi...</td>\n",
       "    </tr>\n",
       "    <tr>\n",
       "      <th>2</th>\n",
       "      <td>technically difficult study p waves are atypic...</td>\n",
       "      <td>[technically, difficult, study, p, waves, atyp...</td>\n",
       "    </tr>\n",
       "    <tr>\n",
       "      <th>3</th>\n",
       "      <td>sinus rhythm compared to the previous tracing ...</td>\n",
       "      <td>[sinus, rhythm, compared, previous, tracing, 2...</td>\n",
       "    </tr>\n",
       "    <tr>\n",
       "      <th>4</th>\n",
       "      <td>sinus rhythm since the previous tracing of 220...</td>\n",
       "      <td>[sinus, rhythm, since, previous, tracing, 2200...</td>\n",
       "    </tr>\n",
       "  </tbody>\n",
       "</table>\n",
       "</div>"
      ],
      "text/plain": [
       "                                                text  \\\n",
       "0  admission date 220047 discharge date 2200410 d...   \n",
       "1  tracing is of improved quality sinus tachycard...   \n",
       "2  technically difficult study p waves are atypic...   \n",
       "3  sinus rhythm compared to the previous tracing ...   \n",
       "4  sinus rhythm since the previous tracing of 220...   \n",
       "\n",
       "                                      tokenized_text  \n",
       "0  [admission, date, 220047, discharge, date, 220...  \n",
       "1  [tracing, improved, quality, sinus, tachycardi...  \n",
       "2  [technically, difficult, study, p, waves, atyp...  \n",
       "3  [sinus, rhythm, compared, previous, tracing, 2...  \n",
       "4  [sinus, rhythm, since, previous, tracing, 2200...  "
      ]
     },
     "execution_count": 71,
     "metadata": {},
     "output_type": "execute_result"
    }
   ],
   "source": [
    "df.loc[:, \"tokenized_text\"] = df['text'].apply(lambda x: tokenize_and_remove_stop_words(x)[0])\n",
    "df[[\"text\", \"tokenized_text\"]].head()"
   ]
  },
  {
   "cell_type": "code",
   "execution_count": 72,
   "metadata": {},
   "outputs": [
    {
     "data": {
      "text/plain": [
       "count    56801.000000\n",
       "mean       211.313252\n",
       "std        281.552996\n",
       "min          3.000000\n",
       "25%         59.000000\n",
       "50%        123.000000\n",
       "75%        228.000000\n",
       "max       3439.000000\n",
       "Name: tokenized_text, dtype: float64"
      ]
     },
     "execution_count": 72,
     "metadata": {},
     "output_type": "execute_result"
    }
   ],
   "source": [
    "# how many words per text?\n",
    "df[\"tokenized_text\"].str.len().describe()"
   ]
  },
  {
   "cell_type": "code",
   "execution_count": 74,
   "metadata": {},
   "outputs": [],
   "source": [
    "min_word_freq = 10\n",
    "model = Word2Vec(df[\"tokenized_text\"], min_count=min_word_freq)"
   ]
  },
  {
   "cell_type": "code",
   "execution_count": 85,
   "metadata": {},
   "outputs": [
    {
     "name": "stdout",
     "output_type": "stream",
     "text": [
      "total learned words: 30008\n"
     ]
    }
   ],
   "source": [
    "learned_words = list(model.wv.key_to_index.keys())\n",
    "total_words = len(learned_words)\n",
    "print(f'total learned words: {total_words}')"
   ]
  },
  {
   "cell_type": "code",
   "execution_count": 100,
   "metadata": {},
   "outputs": [
    {
     "name": "stdout",
     "output_type": "stream",
     "text": [
      "embedding vector for retroperitoneum (dim=(100,)):\n",
      "[-0.3234327  -0.08714876 -0.41889495 -0.12784195  0.4299063   0.1409734\n",
      " -0.1086438  -0.5961283  -0.05520626 -0.29020107 -0.14015035  0.02042352\n",
      "  0.52164894 -0.3623354  -0.28166422  0.4036731  -0.19226323 -0.93970543\n",
      "  0.04085512 -0.03299803 -0.6076594  -0.2963688  -0.29249665 -0.34483388\n",
      " -0.9593344   0.7390165   0.04934819  0.300522   -0.38194293  0.09530936\n",
      "  0.5140394   0.04930574 -0.25044787  0.22476153  0.24438101  0.15467462\n",
      "  0.4605872  -0.55806136 -0.33568698 -0.21682875  0.4284733   0.45965236\n",
      "  0.06284796 -0.19029985  0.1246502  -0.30755588  0.14003193 -0.37856874\n",
      " -0.08485511 -0.10150181  1.4410158  -0.04163815  0.36326548  0.64727193\n",
      " -0.02619361 -0.03520259  0.33081475  0.41524503 -1.5393274   0.81891334\n",
      "  0.4595149   0.18262264 -0.0494491   0.2358015  -0.39127144  0.2672655\n",
      " -0.5457325  -0.10353922 -0.28408605  0.58578855  0.05212955  0.05095126\n",
      " -0.02580983 -0.06410851 -0.15833084 -0.10264172  0.5214524   0.05891827\n",
      " -0.3988457   0.43854266  0.08279853  0.2312264   0.50932795  0.18043503\n",
      "  0.09448352 -0.41378325 -0.35657755  0.5027205  -0.02060125  0.39945614\n",
      "  0.04921849 -0.53157765  0.28990838  0.25314045  0.44304794 -0.72392327\n",
      "  0.22836512 -0.78973275  0.10698798 -0.26092842]\n",
      "most similar for retroperitoneum:\n",
      "[('mesentery', 0.7715851068496704), ('stranding', 0.7680668234825134), ('phlegmon', 0.7630853056907654), ('enhancing', 0.7098734974861145), ('hypoechoic', 0.7000923752784729), ('fat', 0.6949343681335449), ('adjacent', 0.6904885768890381), ('pneumatosis', 0.6875576972961426), ('abscesses', 0.6853058934211731), ('pericolic', 0.6819901466369629)]\n"
     ]
    }
   ],
   "source": [
    "# look at random word and get embedding\n",
    "rand_word_idx = np.random.randint(0, total_words)\n",
    "rand_word = learned_words[rand_word_idx]\n",
    "print(f\"embedding vector for {rand_word} (dim={model.wv[rand_word].shape}):\\n{model.wv[rand_word]}\")\n",
    "print(f\"most similar for {rand_word}:\\n{model.wv.most_similar(rand_word)}\")"
   ]
  },
  {
   "cell_type": "code",
   "execution_count": 102,
   "metadata": {},
   "outputs": [],
   "source": [
    "# # save trained word vectors\n",
    "# model.wv.save_word2vec_format(\"w2v.txt\", binary=False, write_header=False)"
   ]
  },
  {
   "cell_type": "markdown",
   "metadata": {},
   "source": [
    "# CountVectorizer"
   ]
  },
  {
   "cell_type": "code",
   "execution_count": 3,
   "metadata": {},
   "outputs": [
    {
     "name": "stdout",
     "output_type": "stream",
     "text": [
      "[[0 0 0 ... 0 0 0]\n",
      " [0 0 0 ... 0 0 0]\n",
      " [0 0 0 ... 0 0 0]\n",
      " ...\n",
      " [0 0 0 ... 0 0 0]\n",
      " [0 0 0 ... 0 0 0]\n",
      " [0 0 0 ... 0 0 0]]\n"
     ]
    }
   ],
   "source": [
    "# https://www.h2kinfosys.com/blog/word-embeddings-with-word2vec-tutorial-all-you-need-to-know/\n",
    "from sklearn.feature_extraction.text import CountVectorizer\n",
    "\n",
    "vectorizer = CountVectorizer()\n",
    "\n",
    "# define the corpus\n",
    "corpus = df['text']\n",
    "\n",
    "# fit and transform the vectorizer on the corpus\n",
    "transformed_corpus = vectorizer.fit_transform(corpus)\n",
    "\n",
    "# print the transformed data in matrix form\n",
    "print(transformed_corpus.toarray())\n"
   ]
  },
  {
   "cell_type": "code",
   "execution_count": 4,
   "metadata": {},
   "outputs": [
    {
     "data": {
      "text/plain": [
       "(56839, 85059)"
      ]
     },
     "execution_count": 4,
     "metadata": {},
     "output_type": "execute_result"
    }
   ],
   "source": [
    "# transformed corpus is a one hot encoded matrix\n",
    "# one row for each sample in dataset, \n",
    "# one column for each word in vocabulary\n",
    "transformed_corpus.shape"
   ]
  },
  {
   "cell_type": "code",
   "execution_count": 5,
   "metadata": {},
   "outputs": [
    {
     "data": {
      "text/plain": [
       "\"Admission Date:  [**2200-4-7**]     Discharge Date:  [**2200-4-10**]\\n\\nDate of Birth:   [**2146-9-21**]     Sex:  F\\n\\nService:  CARDIAC INTENSIVE CARE MEDICINE\\n\\nCHIEF COMPLAINT:  The patient was admitted to the Cardiac\\nIntensive Care Unit Medicine Service on [**2200-4-7**], with the\\nchief complaint of acute myocardial infarction and fever.\\n\\nHISTORY OF PRESENT ILLNESS:  The patient is a 53 year old\\nwhite female with a history of coronary artery disease,\\nhypertension, hypercholesterolemia and two pack per day\\ntobacco use with previous coronary artery bypass graft\\nsurgery presenting to an outside hospital on [**2200-4-6**], with a\\ntwo day history of fevers and confusion.  The patient had a\\nCT scan of the chest at that time which revealed pneumonia by\\nreport in the left lower lobe.\\n\\nWhile in the outside hospital Emergency Department, the\\npatient complained of chest pain.  The patient states that\\nshe has had this pain for approximately two weeks with no\\nrelief.  She was given Levofloxacin for apparent community\\nacquired pneumonia and cardiac enzymes were cycled.  The\\npatient was found to have a troponin of 3.98 which rose to\\n6.10 as well as CK MBs of 17.3 and 15.2 but no CPKs were\\nrecorded.  The patient's white blood cell count at that time\\nwas 20.6.  The patient received Lovenox and Aspirin and was\\ntransferred to the Cardiac Intensive Care Unit at [**Hospital1 346**] for further management.\\n\\nOf note, the patient's husband reports that she possibly took\\napproximately 17 tablets of 300 mg of Neurontin in the five\\ndays prior to admission.\\n\\nPAST MEDICAL HISTORY:\\n1.  Coronary artery disease, status post coronary artery\\n    bypass graft.\\n2.  Hypertension.\\n3.  Elevated cholesterol.\\n4.  Chronic low back pain.\\n5.  Bronchitis.\\n6.  Question of liver disease.\\n7.  Gastroesophageal reflux disease.\\n8.  Depression.\\n\\nALLERGIES:  Nitroglycerin produces significant decrease in\\nblood pressure.  Tape and bee stings.\\n\\nMEDICATIONS ON ADMISSION:\\n1.  Robaxin 750 mg two tablets q4hours p.r.n.\\n2.  Alprazolam 1.5 mg q.i.d.\\n3.  Lipitor 80 mg p.o. q.d.\\n4.  Gemfibrozil 600 mg b.i.d.\\n5.  Zoloft 150 mg q.d.\\n6.  Prilosec 20 mg q.d.\\n7.  Trazodone 150 mg q.h.s.\\n8.  Duragesic patch 100 mcg q72hours.\\n9.  Enteric Coated Aspirin 81 mg q.d.\\n10. Vancenase inhaler p.r.n.\\n11. Oxycodone 10 mg q4hours p.r.n.\\n12. Neurontin 300 mg p.o. b.i.d. to t.i.d.\\n\\nSOCIAL HISTORY:  The patient smokes two packs per day of\\ntobacco and drinks alcohol socially.  She is married and\\nlives with her husband.\\n\\nFAMILY HISTORY:  Notable for positive coronary artery disease\\nalthough no further or more specific history could be\\nobtained.\\n\\nPHYSICAL EXAMINATION:  On admission, the patient's vital\\nsigns were as follows:  Temperature 98.2, pulse 83,\\nrespiratory rate 17, blood pressure 89/50 with a mean of 67,\\noxygen saturation 98% on nonrebreather.  Of note, the patient\\nstates that her blood pressure usually runs between 80 and 90\\nsystolic.  In general, the patient was alert although had\\ndifficulty remembering and formulating thoughts.  Head, eyes,\\nears, nose and throat examination - The pupils are equal,\\nround, and reactive to light and accommodation.  Extraocular\\nmovements are intact.  Sclera anicteric.  Conjunctivae pink.\\nSlight jaundice and pallor.  The neck was supple with no\\nlymphadenopathy.  The lungs demonstrate coarse rhonchi,\\nquestion of upper airway sounds transmitted to the anterior\\nand midaxillary line.  Cardiovascular regular rate and\\nrhythm, S1 and S2, no murmurs, rubs or gallops.  The abdomen\\nwas soft, nontender, nondistended, with normoactive bowel\\nsounds.  The extremities were warm, 2+ dorsalis pedis pulses\\nbilaterally.  No edema.  Femoral pulses 2+, no bruits.\\nRectal examination was guaiac negative per Emergency\\nDepartment report at the outside hospital.\\n\\nLABORATORY DATA:  From the outside hospital, white count 20.6\\nwith 89 neutrophils, 1 band, 5 lymphocytes, 4 monocytes,\\nhematocrit 38.2, platelets 222, MCV 94.9.  Sodium 138,\\npotassium 4.1, chloride 98, bicarbonate 37, blood urea\\nnitrogen 16, creatinine 0.7, glucose 111.  Prothrombin time\\n12.3, partial thromboplastin time 28.9, INR 1.05.  As\\npreviously mentioned, troponin was 3.98 and 6.10 as well as\\nCK MBs of 17.3 and 15.2 although no CPKs obtainable.  Albumin\\n3.4, total protein 6.5, alkaline phosphatase 148, AST 109,\\nALT 25, total bilirubin 0.3, calcium 8.9.  Urinalysis was\\nnotable for urine protein of 30.\\n\\nElectrocardiogram showed normal sinus rhythm with a rate of\\n88 beats per minute.  Q-Tc 443, normal axis.  ST elevations\\nin leads III, aVF, ST depressions in leads I, aVL and V1\\nthrough V3 with a Q wave in lead III.\\n\\nChest x-ray showed no infiltrate and no pulmonary edema\\nalthough CT scan did show some question of a left lower lobe\\ninfiltrate not seen on chest x-ray.\\n\\nHOSPITAL COURSE:  The patient was admitted for management of\\nconfusion, fever, elevated white count, chest pain, and\\nquestion of myocardial infarction in the setting of coronary\\nartery disease, status post coronary artery bypass graft four\\nyears prior.  CKs were cycled.  The patient was held NPO and\\nfamily members were [**Name (NI) 653**].  The patient was continued on\\nLevofloxacin as started at the outside hospital and given\\ninhalers p.r.n.\\n\\nA psychiatry consultation was obtained on the morning of\\n[**2200-4-7**], given the patient's significant degree of\\ndisorientation and confusion and labile emotions.  The\\npsychiatrist's impression was that the patient was suffering\\nfrom delirium with waxing and [**Doctor Last Name 688**] mental status\\nexamination with poor memory.  At the time of the interview,\\nthe patient was agreeing to consider catheterization although\\nit was noted that if she changed her mind given the\\nimportance of this procedure that her husband and children\\nshould be [**Doctor Last Name 653**] regarding consent for the procedure and\\nthat her capacity to consent at that time should be held in\\nquestion.  Recommendations were made for Haldol p.r.n. as\\nwell as Xanax.  B12, folate, RPR and TSH were all ordered\\nwhich returned as normal.  The patient also had a head CT at\\nthe outside hospital which was unremarkable.\\n\\nCKs were sent at our hospital with initial level of CPK 464,\\nMB 12 and a troponin of 49 obtained.  The patient had been\\nplaced on Heparin prior to the anticipation of cardiac\\ncatheterization. The patient was initially consented to have\\ncardiac catheterization on [**2200-4-7**], although had an acute\\ndecompensation in mental status and anxiety attack and it was\\ndetermined that she would be at high risk for the procedure\\nat that time.  Thus, the procedure was deferred to the\\nmorning of [**2200-4-8**], and findings were as follows:\\n\\nLeft ventricular ejection fraction 62%.  Inferior\\nhypokinesis.  Normal valves.  Discrete proximal right\\ncoronary artery lesion of 100% stenosis.  Left main 100%\\ndiscrete stenosis.  Mid left anterior descending discrete\\n100% stenosis, 50% discrete midcircumflex stenosis.  Bypass\\ngraft saphenous vein graft to the right coronary artery was\\n100% discrete stenosis.  Left internal mammary artery to the\\nleft anterior descending patent and RIMA to the right\\ncoronary artery with a 40% stenosis.  No intervention was\\nperformed.\\n\\nIt was determined that the patient should be maximized on\\nmedical therapy only.  The patient was prescribed with\\nAspirin and Plavix at that time and given diuresis for\\nincreasing oxygen requirement.  The patient returned to the\\nfloor in stable condition and was to the Step-Down Cardiac\\nUnit on [**2200-4-8**].  The patient returned to baseline mental\\nstatus throughout the remainder of her hospital stay and was\\ndetermined to be in stable condition by [**2200-4-10**], to be\\ndischarged.  The patient was in agreement with this plan.\\n\\nDISCHARGE DIAGNOSES:\\n1.  Coronary artery disease, status post coronary artery\\n    bypass graft in [**2195**], now with occluded saphenous vein\\n    graft to be medically managed.\\n2.  Hypertension.\\n3.  Elevated cholesterol.\\n4.  Chronic low back pain.\\n5.  Bronchitis with possible acute pneumonia.\\n6.  Gastroesophageal reflux disease.\\n7.  Depression.\\n\\nDISCHARGE MEDICATIONS:\\n1.  Levofloxacin 500 mg p.o. q.d. times nine days to complete\\n    a fourteen day course.\\n2.  Plavix 75 mg one p.o. q.d.\\n3.  Colace 100 mg p.o. b.i.d. p.r.n. for constipation.\\n4.  Neutra-Phos one packet p.o. b.i.d. times thirty days.\\n5.  Prilosec 20 mg p.o. q.d.\\n6.  Enteric Coated Aspirin 325 mg p.o. q.d.\\n7.  Zoloft 150 mg p.o. q.d.\\n8.  Lipitor 80 mg p.o. q.d.\\n9.  Trazodone 150 mg p.o. q.h.s.\\n10. Fentanyl patch 100 mcg transdermal every three days.\\n11. Atrovent inhaler two puffs b.i.d.\\n12. Tylenol #3 p.r.n.\\n13. Alprazolam 1.5 mg p.o. q.i.d. p.r.n.\\n14. Gemfibrozil 600 mg p.o. q.d.\\n15. Neurontin 300 mg p.o. t.i.d.\\n\\nThe patient was to follow-up with her regular cardiologist,\\nDr [**First Name8 (NamePattern2) **] [**Last Name (NamePattern1) **], in one to two weeks after discharge.\\nConsideration is to be made in the future as to whether or\\nnot the patient's blood pressure can tolerate addition of\\neither an ace inhibitor or a beta blocker to her medical\\nregimen for mortality benefit.\\n\\n\\n\\n\\n                          [**First Name8 (NamePattern2) 2206**] [**First Name4 (NamePattern1) **] [**Last Name (NamePattern1) **], M.D.  [**MD Number(1) 18924**]\\n\\nDictated By:[**Last Name (NamePattern1) 7118**]\\n\\nMEDQUIST36\\n\\nD:  [**2200-4-10**]  12:15\\nT:  [**2200-4-12**]  08:50\\nJOB#:  [**Job Number 18925**]\\n\""
      ]
     },
     "execution_count": 5,
     "metadata": {},
     "output_type": "execute_result"
    }
   ],
   "source": [
    "ex = df.iloc[0]['text']\n",
    "ex"
   ]
  },
  {
   "cell_type": "code",
   "execution_count": null,
   "metadata": {},
   "outputs": [],
   "source": []
  }
 ],
 "metadata": {
  "kernelspec": {
   "display_name": "Python 3.9.13 ('base')",
   "language": "python",
   "name": "python3"
  },
  "language_info": {
   "codemirror_mode": {
    "name": "ipython",
    "version": 3
   },
   "file_extension": ".py",
   "mimetype": "text/x-python",
   "name": "python",
   "nbconvert_exporter": "python",
   "pygments_lexer": "ipython3",
   "version": "3.9.13"
  },
  "orig_nbformat": 4,
  "vscode": {
   "interpreter": {
    "hash": "061a7383154eb359032e7cdb1e778fe469408ddcd916e8d99e0baa0b31a4319c"
   }
  }
 },
 "nbformat": 4,
 "nbformat_minor": 2
}
